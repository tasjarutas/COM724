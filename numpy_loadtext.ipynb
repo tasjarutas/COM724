{
 "cells": [
  {
   "cell_type": "code",
   "execution_count": 1,
   "metadata": {
    "collapsed": true
   },
   "outputs": [
    {
     "name": "stdout",
     "output_type": "stream",
     "text": [
      "(768, 9)\n",
      "[[  6.    148.     72.     35.      0.     33.6     0.627  50.      1.   ]\n",
      " [  1.     85.     66.     29.      0.     26.6     0.351  31.      0.   ]\n",
      " [  8.    183.     64.      0.      0.     23.3     0.672  32.      1.   ]]\n"
     ]
    }
   ],
   "source": [
    "from numpy import loadtxt\n",
    "from numpy import genfromtxt\n",
    "\n",
    "\n",
    "datalocation = open(\"pima_indians_diabetes.csv\",\"r\")\n",
    "data = loadtxt(datalocation,delimiter=',')\n",
    "print(data.shape)\n",
    "print(data[:3])\n"
   ]
  }
 ],
 "metadata": {
  "kernelspec": {
   "display_name": "Python 3",
   "language": "python",
   "name": "python3"
  },
  "language_info": {
   "codemirror_mode": {
    "name": "ipython",
    "version": 2
   },
   "file_extension": ".py",
   "mimetype": "text/x-python",
   "name": "python",
   "nbconvert_exporter": "python",
   "pygments_lexer": "ipython2",
   "version": "2.7.6"
  }
 },
 "nbformat": 4,
 "nbformat_minor": 0
}