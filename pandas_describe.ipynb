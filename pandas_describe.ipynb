{
 "cells": [
  {
   "cell_type": "code",
   "execution_count": 1,
   "metadata": {
    "collapsed": true
   },
   "outputs": [
    {
     "name": "stdout",
     "output_type": "stream",
     "text": [
      "(150, 5)\n",
      "       sepal_length  sepal_width  petal_length  petal_width\n",
      "count        150.00       150.00        150.00       150.00\n",
      "mean           5.84         3.05          3.76         1.20\n",
      "std            0.83         0.43          1.76         0.76\n",
      "min            4.30         2.00          1.00         0.10\n",
      "25%            5.10         2.80          1.60         0.30\n",
      "50%            5.80         3.00          4.35         1.30\n",
      "75%            6.40         3.30          5.10         1.80\n",
      "max            7.90         4.40          6.90         2.50\n",
      "\n",
      " the mean value of each variables\n",
      "sepal_length    5.84\n",
      "sepal_width     3.05\n",
      "petal_length    3.76\n",
      "petal_width     1.20\n",
      "dtype: float64\n",
      "\n",
      " the median value of each variables\n",
      "sepal_length    5.80\n",
      "sepal_width     3.00\n",
      "petal_length    4.35\n",
      "petal_width     1.30\n",
      "dtype: float64\n"
     ]
    }
   ],
   "source": [
    "from pandas import read_csv\n",
    "from pandas import set_option\n",
    "\n",
    "header_names = ['sepal_length','sepal_width','petal_length','petal_width','iris_class']\n",
    "\n",
    "my_data = read_csv(\"iris_data.csv\",names=header_names,engine='python',sep=',\\s*',skipinitialspace=True)\n",
    "set_option('display.width',100)\n",
    "set_option('precision',2)\n",
    "\n",
    "print(my_data.shape)\n",
    "print(my_data.describe())\n",
    "\n",
    "print(\"\\n the mean value of each variables\")\n",
    "print(my_data.mean())\n",
    "\n",
    "print(\"\\n the median value of each variables\")\n",
    "print(my_data.median())\n"
   ]
  }
 ],
 "metadata": {
  "kernelspec": {
   "display_name": "Python 3",
   "language": "python",
   "name": "python3"
  },
  "language_info": {
   "codemirror_mode": {
    "name": "ipython",
    "version": 2
   },
   "file_extension": ".py",
   "mimetype": "text/x-python",
   "name": "python",
   "nbconvert_exporter": "python",
   "pygments_lexer": "ipython2",
   "version": "2.7.6"
  }
 },
 "nbformat": 4,
 "nbformat_minor": 0
}